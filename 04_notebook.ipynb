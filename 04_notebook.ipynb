{
 "cells": [
  {
   "cell_type": "code",
   "execution_count": 1,
   "id": "975edf83",
   "metadata": {},
   "outputs": [],
   "source": [
    "import pandas as pd\n",
    "import numpy as np\n",
    "\n",
    "# import helper.binance_api as ba\n",
    "import helper.yahoo_api as ya\n",
    "\n",
    "df_of_symbols_set = pd.read_excel('C:/Users/phata/Documents/GitHub/quant_tools/helper/set_symbol_list.xlsx')\n",
    "list_of_symbols_set = df_of_symbols_set['symbol'].to_list()"
   ]
  },
  {
   "cell_type": "code",
   "execution_count": 2,
   "id": "d7ae8f11",
   "metadata": {},
   "outputs": [],
   "source": [
    "def get_data_1d_SET(symbol: str): # only close\n",
    "    series = ya.get_data_1d(symbol).close.rename(symbol)\n",
    "    return series[series > 0] # Quick fix for negative prices\n",
    "def get_df(li_symbols, int_start_year = None, int_end_year = None):\n",
    "    df = pd.concat([get_data_1d_SET(symbol) for symbol in li_symbols], axis = 1)\n",
    "    if int_start_year is not None: df = df[df.index.year >= int_start_year]\n",
    "    if int_end_year is not None: df = df[df.index.year <= int_end_year]\n",
    "    # st.session_state.df = df\n",
    "    return df"
   ]
  },
  {
   "cell_type": "code",
   "execution_count": 34,
   "id": "adb069a7",
   "metadata": {},
   "outputs": [],
   "source": [
    "# https://gist.github.com/wiso/ce2a9919ded228838703c1c7c7dad13b\n",
    "def correlation_from_covariance(covariance):\n",
    "    v = np.sqrt(np.diag(covariance))\n",
    "    outer_v = np.outer(v, v)\n",
    "    correlation = covariance / outer_v\n",
    "    correlation[covariance == 0] = 0\n",
    "    return correlation"
   ]
  },
  {
   "cell_type": "code",
   "execution_count": 88,
   "id": "9365d7a9",
   "metadata": {},
   "outputs": [],
   "source": [
    "li_symbols = ['TOP', 'DELTA', 'AOT', 'CPF', 'KBANK', 'TRUE', 'TTB', 'THG', 'ORI', 'THANI']"
   ]
  },
  {
   "cell_type": "code",
   "execution_count": 114,
   "id": "92a82c01",
   "metadata": {},
   "outputs": [],
   "source": [
    "for delisted in ['IFEC', 'PRO', 'THL']:\n",
    "    try: li_symbols.remove(delisted)\n",
    "    except: pass\n",
    "df = get_df(li_symbols).dropna()\n"
   ]
  },
  {
   "cell_type": "code",
   "execution_count": 115,
   "id": "59d0deed",
   "metadata": {},
   "outputs": [],
   "source": [
    "from pypfopt.expected_returns import mean_historical_return\n",
    "from pypfopt.risk_models import CovarianceShrinkage\n",
    "from pypfopt.efficient_frontier import EfficientFrontier\n",
    "import matplotlib.pyplot as plt\n",
    "from pypfopt import plotting"
   ]
  },
  {
   "cell_type": "code",
   "execution_count": 103,
   "id": "cfee6f24",
   "metadata": {},
   "outputs": [
    {
     "data": {
      "text/html": [
       "<div>\n",
       "<style scoped>\n",
       "    .dataframe tbody tr th:only-of-type {\n",
       "        vertical-align: middle;\n",
       "    }\n",
       "\n",
       "    .dataframe tbody tr th {\n",
       "        vertical-align: top;\n",
       "    }\n",
       "\n",
       "    .dataframe thead th {\n",
       "        text-align: right;\n",
       "    }\n",
       "</style>\n",
       "<table border=\"1\" class=\"dataframe\">\n",
       "  <thead>\n",
       "    <tr style=\"text-align: right;\">\n",
       "      <th></th>\n",
       "      <th>TOP</th>\n",
       "      <th>DELTA</th>\n",
       "      <th>AOT</th>\n",
       "      <th>CPF</th>\n",
       "      <th>KBANK</th>\n",
       "      <th>TRUE</th>\n",
       "      <th>TTB</th>\n",
       "      <th>THG</th>\n",
       "      <th>ORI</th>\n",
       "      <th>THANI</th>\n",
       "    </tr>\n",
       "  </thead>\n",
       "  <tbody>\n",
       "    <tr>\n",
       "      <th>TOP</th>\n",
       "      <td>228.650776</td>\n",
       "      <td>716.591776</td>\n",
       "      <td>296.108201</td>\n",
       "      <td>92.225027</td>\n",
       "      <td>604.433288</td>\n",
       "      <td>10.448218</td>\n",
       "      <td>1.752298</td>\n",
       "      <td>14.663706</td>\n",
       "      <td>12.357305</td>\n",
       "      <td>17.668035</td>\n",
       "    </tr>\n",
       "    <tr>\n",
       "      <th>DELTA</th>\n",
       "      <td>716.591776</td>\n",
       "      <td>22563.041890</td>\n",
       "      <td>2663.638691</td>\n",
       "      <td>700.956158</td>\n",
       "      <td>2936.214808</td>\n",
       "      <td>4.271131</td>\n",
       "      <td>-26.565233</td>\n",
       "      <td>2404.076947</td>\n",
       "      <td>387.258341</td>\n",
       "      <td>161.959203</td>\n",
       "    </tr>\n",
       "    <tr>\n",
       "      <th>AOT</th>\n",
       "      <td>296.108201</td>\n",
       "      <td>2663.638691</td>\n",
       "      <td>713.940909</td>\n",
       "      <td>180.076129</td>\n",
       "      <td>935.366484</td>\n",
       "      <td>14.476513</td>\n",
       "      <td>-0.650336</td>\n",
       "      <td>45.823972</td>\n",
       "      <td>28.221959</td>\n",
       "      <td>41.583170</td>\n",
       "    </tr>\n",
       "    <tr>\n",
       "      <th>CPF</th>\n",
       "      <td>92.225027</td>\n",
       "      <td>700.956158</td>\n",
       "      <td>180.076129</td>\n",
       "      <td>104.052994</td>\n",
       "      <td>531.884075</td>\n",
       "      <td>-3.498928</td>\n",
       "      <td>-4.271001</td>\n",
       "      <td>-5.733884</td>\n",
       "      <td>2.153794</td>\n",
       "      <td>11.214972</td>\n",
       "    </tr>\n",
       "    <tr>\n",
       "      <th>KBANK</th>\n",
       "      <td>604.433288</td>\n",
       "      <td>2936.214808</td>\n",
       "      <td>935.366484</td>\n",
       "      <td>531.884075</td>\n",
       "      <td>3598.962244</td>\n",
       "      <td>-0.037818</td>\n",
       "      <td>-21.497884</td>\n",
       "      <td>150.455161</td>\n",
       "      <td>19.907339</td>\n",
       "      <td>58.564432</td>\n",
       "    </tr>\n",
       "    <tr>\n",
       "      <th>TRUE</th>\n",
       "      <td>10.448218</td>\n",
       "      <td>4.271131</td>\n",
       "      <td>14.476513</td>\n",
       "      <td>-3.498928</td>\n",
       "      <td>-0.037818</td>\n",
       "      <td>18.581153</td>\n",
       "      <td>3.119673</td>\n",
       "      <td>5.374117</td>\n",
       "      <td>-1.243710</td>\n",
       "      <td>0.761759</td>\n",
       "    </tr>\n",
       "    <tr>\n",
       "      <th>TTB</th>\n",
       "      <td>1.752298</td>\n",
       "      <td>-26.565233</td>\n",
       "      <td>-0.650336</td>\n",
       "      <td>-4.271001</td>\n",
       "      <td>-21.497884</td>\n",
       "      <td>3.119673</td>\n",
       "      <td>0.965633</td>\n",
       "      <td>0.489737</td>\n",
       "      <td>-0.102435</td>\n",
       "      <td>-0.133211</td>\n",
       "    </tr>\n",
       "    <tr>\n",
       "      <th>THG</th>\n",
       "      <td>14.663706</td>\n",
       "      <td>2404.076947</td>\n",
       "      <td>45.823972</td>\n",
       "      <td>-5.733884</td>\n",
       "      <td>150.455161</td>\n",
       "      <td>5.374117</td>\n",
       "      <td>0.489737</td>\n",
       "      <td>281.369037</td>\n",
       "      <td>27.098406</td>\n",
       "      <td>3.461650</td>\n",
       "    </tr>\n",
       "    <tr>\n",
       "      <th>ORI</th>\n",
       "      <td>12.357305</td>\n",
       "      <td>387.258341</td>\n",
       "      <td>28.221959</td>\n",
       "      <td>2.153794</td>\n",
       "      <td>19.907339</td>\n",
       "      <td>-1.243710</td>\n",
       "      <td>-0.102435</td>\n",
       "      <td>27.098406</td>\n",
       "      <td>8.503246</td>\n",
       "      <td>2.416196</td>\n",
       "    </tr>\n",
       "    <tr>\n",
       "      <th>THANI</th>\n",
       "      <td>17.668035</td>\n",
       "      <td>161.959203</td>\n",
       "      <td>41.583170</td>\n",
       "      <td>11.214972</td>\n",
       "      <td>58.564432</td>\n",
       "      <td>0.761759</td>\n",
       "      <td>-0.133211</td>\n",
       "      <td>3.461650</td>\n",
       "      <td>2.416196</td>\n",
       "      <td>2.484660</td>\n",
       "    </tr>\n",
       "  </tbody>\n",
       "</table>\n",
       "</div>"
      ],
      "text/plain": [
       "              TOP         DELTA          AOT         CPF        KBANK  \\\n",
       "TOP    228.650776    716.591776   296.108201   92.225027   604.433288   \n",
       "DELTA  716.591776  22563.041890  2663.638691  700.956158  2936.214808   \n",
       "AOT    296.108201   2663.638691   713.940909  180.076129   935.366484   \n",
       "CPF     92.225027    700.956158   180.076129  104.052994   531.884075   \n",
       "KBANK  604.433288   2936.214808   935.366484  531.884075  3598.962244   \n",
       "TRUE    10.448218      4.271131    14.476513   -3.498928    -0.037818   \n",
       "TTB      1.752298    -26.565233    -0.650336   -4.271001   -21.497884   \n",
       "THG     14.663706   2404.076947    45.823972   -5.733884   150.455161   \n",
       "ORI     12.357305    387.258341    28.221959    2.153794    19.907339   \n",
       "THANI   17.668035    161.959203    41.583170   11.214972    58.564432   \n",
       "\n",
       "            TRUE        TTB          THG         ORI       THANI  \n",
       "TOP    10.448218   1.752298    14.663706   12.357305   17.668035  \n",
       "DELTA   4.271131 -26.565233  2404.076947  387.258341  161.959203  \n",
       "AOT    14.476513  -0.650336    45.823972   28.221959   41.583170  \n",
       "CPF    -3.498928  -4.271001    -5.733884    2.153794   11.214972  \n",
       "KBANK  -0.037818 -21.497884   150.455161   19.907339   58.564432  \n",
       "TRUE   18.581153   3.119673     5.374117   -1.243710    0.761759  \n",
       "TTB     3.119673   0.965633     0.489737   -0.102435   -0.133211  \n",
       "THG     5.374117   0.489737   281.369037   27.098406    3.461650  \n",
       "ORI    -1.243710  -0.102435    27.098406    8.503246    2.416196  \n",
       "THANI   0.761759  -0.133211     3.461650    2.416196    2.484660  "
      ]
     },
     "execution_count": 103,
     "metadata": {},
     "output_type": "execute_result"
    }
   ],
   "source": [
    "cov_sample"
   ]
  },
  {
   "cell_type": "code",
   "execution_count": 121,
   "id": "55de4214",
   "metadata": {},
   "outputs": [
    {
     "data": {
      "text/html": [
       "<div>\n",
       "<style scoped>\n",
       "    .dataframe tbody tr th:only-of-type {\n",
       "        vertical-align: middle;\n",
       "    }\n",
       "\n",
       "    .dataframe tbody tr th {\n",
       "        vertical-align: top;\n",
       "    }\n",
       "\n",
       "    .dataframe thead th {\n",
       "        text-align: right;\n",
       "    }\n",
       "</style>\n",
       "<table border=\"1\" class=\"dataframe\">\n",
       "  <thead>\n",
       "    <tr style=\"text-align: right;\">\n",
       "      <th></th>\n",
       "      <th>TOP</th>\n",
       "      <th>DELTA</th>\n",
       "      <th>AOT</th>\n",
       "      <th>CPF</th>\n",
       "      <th>KBANK</th>\n",
       "      <th>TRUE</th>\n",
       "      <th>TTB</th>\n",
       "      <th>THG</th>\n",
       "      <th>ORI</th>\n",
       "      <th>THANI</th>\n",
       "    </tr>\n",
       "  </thead>\n",
       "  <tbody>\n",
       "    <tr>\n",
       "      <th>TOP</th>\n",
       "      <td>1.000000</td>\n",
       "      <td>-0.283817</td>\n",
       "      <td>0.405513</td>\n",
       "      <td>-0.631600</td>\n",
       "      <td>0.891197</td>\n",
       "      <td>0.807400</td>\n",
       "      <td>0.926767</td>\n",
       "      <td>0.067247</td>\n",
       "      <td>0.286898</td>\n",
       "      <td>0.397402</td>\n",
       "    </tr>\n",
       "    <tr>\n",
       "      <th>DELTA</th>\n",
       "      <td>-0.283817</td>\n",
       "      <td>1.000000</td>\n",
       "      <td>0.191808</td>\n",
       "      <td>0.220205</td>\n",
       "      <td>-0.194886</td>\n",
       "      <td>-0.251750</td>\n",
       "      <td>-0.359945</td>\n",
       "      <td>0.606312</td>\n",
       "      <td>0.635450</td>\n",
       "      <td>0.353726</td>\n",
       "    </tr>\n",
       "    <tr>\n",
       "      <th>AOT</th>\n",
       "      <td>0.405513</td>\n",
       "      <td>0.191808</td>\n",
       "      <td>1.000000</td>\n",
       "      <td>-0.135994</td>\n",
       "      <td>0.416227</td>\n",
       "      <td>0.428605</td>\n",
       "      <td>0.304564</td>\n",
       "      <td>0.470168</td>\n",
       "      <td>0.298861</td>\n",
       "      <td>0.510897</td>\n",
       "    </tr>\n",
       "    <tr>\n",
       "      <th>CPF</th>\n",
       "      <td>-0.631600</td>\n",
       "      <td>0.220205</td>\n",
       "      <td>-0.135994</td>\n",
       "      <td>1.000000</td>\n",
       "      <td>-0.661105</td>\n",
       "      <td>-0.624444</td>\n",
       "      <td>-0.690071</td>\n",
       "      <td>-0.145430</td>\n",
       "      <td>-0.203811</td>\n",
       "      <td>-0.260115</td>\n",
       "    </tr>\n",
       "    <tr>\n",
       "      <th>KBANK</th>\n",
       "      <td>0.891197</td>\n",
       "      <td>-0.194886</td>\n",
       "      <td>0.416227</td>\n",
       "      <td>-0.661105</td>\n",
       "      <td>1.000000</td>\n",
       "      <td>0.846093</td>\n",
       "      <td>0.916287</td>\n",
       "      <td>0.265702</td>\n",
       "      <td>0.388776</td>\n",
       "      <td>0.490462</td>\n",
       "    </tr>\n",
       "    <tr>\n",
       "      <th>TRUE</th>\n",
       "      <td>0.807400</td>\n",
       "      <td>-0.251750</td>\n",
       "      <td>0.428605</td>\n",
       "      <td>-0.624444</td>\n",
       "      <td>0.846093</td>\n",
       "      <td>1.000000</td>\n",
       "      <td>0.831148</td>\n",
       "      <td>0.304578</td>\n",
       "      <td>0.397229</td>\n",
       "      <td>0.413240</td>\n",
       "    </tr>\n",
       "    <tr>\n",
       "      <th>TTB</th>\n",
       "      <td>0.926767</td>\n",
       "      <td>-0.359945</td>\n",
       "      <td>0.304564</td>\n",
       "      <td>-0.690071</td>\n",
       "      <td>0.916287</td>\n",
       "      <td>0.831148</td>\n",
       "      <td>1.000000</td>\n",
       "      <td>0.076708</td>\n",
       "      <td>0.241579</td>\n",
       "      <td>0.293251</td>\n",
       "    </tr>\n",
       "    <tr>\n",
       "      <th>THG</th>\n",
       "      <td>0.067247</td>\n",
       "      <td>0.606312</td>\n",
       "      <td>0.470168</td>\n",
       "      <td>-0.145430</td>\n",
       "      <td>0.265702</td>\n",
       "      <td>0.304578</td>\n",
       "      <td>0.076708</td>\n",
       "      <td>1.000000</td>\n",
       "      <td>0.700678</td>\n",
       "      <td>0.387273</td>\n",
       "    </tr>\n",
       "    <tr>\n",
       "      <th>ORI</th>\n",
       "      <td>0.286898</td>\n",
       "      <td>0.635450</td>\n",
       "      <td>0.298861</td>\n",
       "      <td>-0.203811</td>\n",
       "      <td>0.388776</td>\n",
       "      <td>0.397229</td>\n",
       "      <td>0.241579</td>\n",
       "      <td>0.700678</td>\n",
       "      <td>1.000000</td>\n",
       "      <td>0.535842</td>\n",
       "    </tr>\n",
       "    <tr>\n",
       "      <th>THANI</th>\n",
       "      <td>0.397402</td>\n",
       "      <td>0.353726</td>\n",
       "      <td>0.510897</td>\n",
       "      <td>-0.260115</td>\n",
       "      <td>0.490462</td>\n",
       "      <td>0.413240</td>\n",
       "      <td>0.293251</td>\n",
       "      <td>0.387273</td>\n",
       "      <td>0.535842</td>\n",
       "      <td>1.000000</td>\n",
       "    </tr>\n",
       "  </tbody>\n",
       "</table>\n",
       "</div>"
      ],
      "text/plain": [
       "            TOP     DELTA       AOT       CPF     KBANK      TRUE       TTB  \\\n",
       "TOP    1.000000 -0.283817  0.405513 -0.631600  0.891197  0.807400  0.926767   \n",
       "DELTA -0.283817  1.000000  0.191808  0.220205 -0.194886 -0.251750 -0.359945   \n",
       "AOT    0.405513  0.191808  1.000000 -0.135994  0.416227  0.428605  0.304564   \n",
       "CPF   -0.631600  0.220205 -0.135994  1.000000 -0.661105 -0.624444 -0.690071   \n",
       "KBANK  0.891197 -0.194886  0.416227 -0.661105  1.000000  0.846093  0.916287   \n",
       "TRUE   0.807400 -0.251750  0.428605 -0.624444  0.846093  1.000000  0.831148   \n",
       "TTB    0.926767 -0.359945  0.304564 -0.690071  0.916287  0.831148  1.000000   \n",
       "THG    0.067247  0.606312  0.470168 -0.145430  0.265702  0.304578  0.076708   \n",
       "ORI    0.286898  0.635450  0.298861 -0.203811  0.388776  0.397229  0.241579   \n",
       "THANI  0.397402  0.353726  0.510897 -0.260115  0.490462  0.413240  0.293251   \n",
       "\n",
       "            THG       ORI     THANI  \n",
       "TOP    0.067247  0.286898  0.397402  \n",
       "DELTA  0.606312  0.635450  0.353726  \n",
       "AOT    0.470168  0.298861  0.510897  \n",
       "CPF   -0.145430 -0.203811 -0.260115  \n",
       "KBANK  0.265702  0.388776  0.490462  \n",
       "TRUE   0.304578  0.397229  0.413240  \n",
       "TTB    0.076708  0.241579  0.293251  \n",
       "THG    1.000000  0.700678  0.387273  \n",
       "ORI    0.700678  1.000000  0.535842  \n",
       "THANI  0.387273  0.535842  1.000000  "
      ]
     },
     "execution_count": 121,
     "metadata": {},
     "output_type": "execute_result"
    }
   ],
   "source": [
    "correlation_from_covariance(cov_sample)"
   ]
  },
  {
   "cell_type": "code",
   "execution_count": 116,
   "id": "93705e6b",
   "metadata": {},
   "outputs": [],
   "source": [
    "mu = mean_historical_return(df)\n",
    "cov_shrinkage = CovarianceShrinkage(df).ledoit_wolf()\n",
    "cov_sample = df.cov()"
   ]
  },
  {
   "cell_type": "code",
   "execution_count": 123,
   "id": "72124d1e",
   "metadata": {},
   "outputs": [
    {
     "data": {
      "application/vnd.plotly.v1+json": {
       "config": {
        "plotlyServerURL": "https://plot.ly"
       },
       "data": [
        {
         "coloraxis": "coloraxis",
         "hovertemplate": "x: %{x}<br>y: %{y}<br>color: %{z}<extra></extra>",
         "name": "0",
         "type": "heatmap",
         "x": [
          "TOP",
          "DELTA",
          "AOT",
          "CPF",
          "KBANK",
          "TRUE",
          "TTB",
          "THG",
          "ORI",
          "THANI"
         ],
         "xaxis": "x",
         "y": [
          "TOP",
          "DELTA",
          "AOT",
          "CPF",
          "KBANK",
          "TRUE",
          "TTB",
          "THG",
          "ORI",
          "THANI"
         ],
         "yaxis": "y",
         "z": [
          [
           0.9999999999999998,
           -0.28381728806753764,
           0.4055129364247683,
           -0.631599604129061,
           0.8911968806976097,
           0.8074001087460908,
           0.9267667008834946,
           0.06724736634822899,
           0.28689791083090704,
           0.39740153448016413
          ],
          [
           -0.28381728806753764,
           1,
           0.19180784418919072,
           0.22020538391874092,
           -0.19488648320326207,
           -0.2517501001000189,
           -0.359944908588734,
           0.6063120169537077,
           0.6354502834826572,
           0.35372585456047445
          ],
          [
           0.4055129364247683,
           0.19180784418919072,
           0.9999999999999998,
           -0.13599353269028153,
           0.41622728023404504,
           0.4286046620616877,
           0.3045642363475847,
           0.47016832496094946,
           0.29886058164541646,
           0.5108970420395392
          ],
          [
           -0.631599604129061,
           0.22020538391874092,
           -0.13599353269028153,
           1,
           -0.6611050507145793,
           -0.6244442244571207,
           -0.6900708421217207,
           -0.14542961256687117,
           -0.20381142106740033,
           -0.2601152007941098
          ],
          [
           0.8911968806976097,
           -0.19488648320326207,
           0.41622728023404504,
           -0.6611050507145793,
           0.9999999999999998,
           0.8460927626734669,
           0.9162870967631327,
           0.2657020530115038,
           0.3887758989283922,
           0.4904621855499441
          ],
          [
           0.8074001087460908,
           -0.2517501001000189,
           0.4286046620616877,
           -0.6244442244571207,
           0.8460927626734669,
           1,
           0.8311478959893386,
           0.3045781499127254,
           0.3972285194198168,
           0.41323985080064596
          ],
          [
           0.9267667008834946,
           -0.359944908588734,
           0.3045642363475847,
           -0.6900708421217207,
           0.9162870967631327,
           0.8311478959893386,
           1,
           0.07670768347600856,
           0.24157898635537528,
           0.2932505648479019
          ],
          [
           0.06724736634822899,
           0.6063120169537077,
           0.47016832496094946,
           -0.14542961256687117,
           0.2657020530115038,
           0.3045781499127254,
           0.07670768347600856,
           0.9999999999999998,
           0.7006777556958859,
           0.38727256772473834
          ],
          [
           0.28689791083090704,
           0.6354502834826572,
           0.29886058164541646,
           -0.20381142106740033,
           0.3887758989283922,
           0.3972285194198168,
           0.24157898635537528,
           0.7006777556958859,
           1,
           0.535842199138535
          ],
          [
           0.39740153448016413,
           0.35372585456047445,
           0.5108970420395392,
           -0.2601152007941098,
           0.4904621855499441,
           0.41323985080064596,
           0.2932505648479019,
           0.38727256772473834,
           0.535842199138535,
           1
          ]
         ]
        }
       ],
       "layout": {
        "coloraxis": {
         "cmid": 0,
         "colorscale": [
          [
           0,
           "rgb(103,0,31)"
          ],
          [
           0.1,
           "rgb(178,24,43)"
          ],
          [
           0.2,
           "rgb(214,96,77)"
          ],
          [
           0.3,
           "rgb(244,165,130)"
          ],
          [
           0.4,
           "rgb(253,219,199)"
          ],
          [
           0.5,
           "rgb(247,247,247)"
          ],
          [
           0.6,
           "rgb(209,229,240)"
          ],
          [
           0.7,
           "rgb(146,197,222)"
          ],
          [
           0.8,
           "rgb(67,147,195)"
          ],
          [
           0.9,
           "rgb(33,102,172)"
          ],
          [
           1,
           "rgb(5,48,97)"
          ]
         ]
        },
        "margin": {
         "t": 60
        },
        "template": {
         "data": {
          "bar": [
           {
            "error_x": {
             "color": "#2a3f5f"
            },
            "error_y": {
             "color": "#2a3f5f"
            },
            "marker": {
             "line": {
              "color": "#E5ECF6",
              "width": 0.5
             },
             "pattern": {
              "fillmode": "overlay",
              "size": 10,
              "solidity": 0.2
             }
            },
            "type": "bar"
           }
          ],
          "barpolar": [
           {
            "marker": {
             "line": {
              "color": "#E5ECF6",
              "width": 0.5
             },
             "pattern": {
              "fillmode": "overlay",
              "size": 10,
              "solidity": 0.2
             }
            },
            "type": "barpolar"
           }
          ],
          "carpet": [
           {
            "aaxis": {
             "endlinecolor": "#2a3f5f",
             "gridcolor": "white",
             "linecolor": "white",
             "minorgridcolor": "white",
             "startlinecolor": "#2a3f5f"
            },
            "baxis": {
             "endlinecolor": "#2a3f5f",
             "gridcolor": "white",
             "linecolor": "white",
             "minorgridcolor": "white",
             "startlinecolor": "#2a3f5f"
            },
            "type": "carpet"
           }
          ],
          "choropleth": [
           {
            "colorbar": {
             "outlinewidth": 0,
             "ticks": ""
            },
            "type": "choropleth"
           }
          ],
          "contour": [
           {
            "colorbar": {
             "outlinewidth": 0,
             "ticks": ""
            },
            "colorscale": [
             [
              0,
              "#0d0887"
             ],
             [
              0.1111111111111111,
              "#46039f"
             ],
             [
              0.2222222222222222,
              "#7201a8"
             ],
             [
              0.3333333333333333,
              "#9c179e"
             ],
             [
              0.4444444444444444,
              "#bd3786"
             ],
             [
              0.5555555555555556,
              "#d8576b"
             ],
             [
              0.6666666666666666,
              "#ed7953"
             ],
             [
              0.7777777777777778,
              "#fb9f3a"
             ],
             [
              0.8888888888888888,
              "#fdca26"
             ],
             [
              1,
              "#f0f921"
             ]
            ],
            "type": "contour"
           }
          ],
          "contourcarpet": [
           {
            "colorbar": {
             "outlinewidth": 0,
             "ticks": ""
            },
            "type": "contourcarpet"
           }
          ],
          "heatmap": [
           {
            "colorbar": {
             "outlinewidth": 0,
             "ticks": ""
            },
            "colorscale": [
             [
              0,
              "#0d0887"
             ],
             [
              0.1111111111111111,
              "#46039f"
             ],
             [
              0.2222222222222222,
              "#7201a8"
             ],
             [
              0.3333333333333333,
              "#9c179e"
             ],
             [
              0.4444444444444444,
              "#bd3786"
             ],
             [
              0.5555555555555556,
              "#d8576b"
             ],
             [
              0.6666666666666666,
              "#ed7953"
             ],
             [
              0.7777777777777778,
              "#fb9f3a"
             ],
             [
              0.8888888888888888,
              "#fdca26"
             ],
             [
              1,
              "#f0f921"
             ]
            ],
            "type": "heatmap"
           }
          ],
          "heatmapgl": [
           {
            "colorbar": {
             "outlinewidth": 0,
             "ticks": ""
            },
            "colorscale": [
             [
              0,
              "#0d0887"
             ],
             [
              0.1111111111111111,
              "#46039f"
             ],
             [
              0.2222222222222222,
              "#7201a8"
             ],
             [
              0.3333333333333333,
              "#9c179e"
             ],
             [
              0.4444444444444444,
              "#bd3786"
             ],
             [
              0.5555555555555556,
              "#d8576b"
             ],
             [
              0.6666666666666666,
              "#ed7953"
             ],
             [
              0.7777777777777778,
              "#fb9f3a"
             ],
             [
              0.8888888888888888,
              "#fdca26"
             ],
             [
              1,
              "#f0f921"
             ]
            ],
            "type": "heatmapgl"
           }
          ],
          "histogram": [
           {
            "marker": {
             "pattern": {
              "fillmode": "overlay",
              "size": 10,
              "solidity": 0.2
             }
            },
            "type": "histogram"
           }
          ],
          "histogram2d": [
           {
            "colorbar": {
             "outlinewidth": 0,
             "ticks": ""
            },
            "colorscale": [
             [
              0,
              "#0d0887"
             ],
             [
              0.1111111111111111,
              "#46039f"
             ],
             [
              0.2222222222222222,
              "#7201a8"
             ],
             [
              0.3333333333333333,
              "#9c179e"
             ],
             [
              0.4444444444444444,
              "#bd3786"
             ],
             [
              0.5555555555555556,
              "#d8576b"
             ],
             [
              0.6666666666666666,
              "#ed7953"
             ],
             [
              0.7777777777777778,
              "#fb9f3a"
             ],
             [
              0.8888888888888888,
              "#fdca26"
             ],
             [
              1,
              "#f0f921"
             ]
            ],
            "type": "histogram2d"
           }
          ],
          "histogram2dcontour": [
           {
            "colorbar": {
             "outlinewidth": 0,
             "ticks": ""
            },
            "colorscale": [
             [
              0,
              "#0d0887"
             ],
             [
              0.1111111111111111,
              "#46039f"
             ],
             [
              0.2222222222222222,
              "#7201a8"
             ],
             [
              0.3333333333333333,
              "#9c179e"
             ],
             [
              0.4444444444444444,
              "#bd3786"
             ],
             [
              0.5555555555555556,
              "#d8576b"
             ],
             [
              0.6666666666666666,
              "#ed7953"
             ],
             [
              0.7777777777777778,
              "#fb9f3a"
             ],
             [
              0.8888888888888888,
              "#fdca26"
             ],
             [
              1,
              "#f0f921"
             ]
            ],
            "type": "histogram2dcontour"
           }
          ],
          "mesh3d": [
           {
            "colorbar": {
             "outlinewidth": 0,
             "ticks": ""
            },
            "type": "mesh3d"
           }
          ],
          "parcoords": [
           {
            "line": {
             "colorbar": {
              "outlinewidth": 0,
              "ticks": ""
             }
            },
            "type": "parcoords"
           }
          ],
          "pie": [
           {
            "automargin": true,
            "type": "pie"
           }
          ],
          "scatter": [
           {
            "fillpattern": {
             "fillmode": "overlay",
             "size": 10,
             "solidity": 0.2
            },
            "type": "scatter"
           }
          ],
          "scatter3d": [
           {
            "line": {
             "colorbar": {
              "outlinewidth": 0,
              "ticks": ""
             }
            },
            "marker": {
             "colorbar": {
              "outlinewidth": 0,
              "ticks": ""
             }
            },
            "type": "scatter3d"
           }
          ],
          "scattercarpet": [
           {
            "marker": {
             "colorbar": {
              "outlinewidth": 0,
              "ticks": ""
             }
            },
            "type": "scattercarpet"
           }
          ],
          "scattergeo": [
           {
            "marker": {
             "colorbar": {
              "outlinewidth": 0,
              "ticks": ""
             }
            },
            "type": "scattergeo"
           }
          ],
          "scattergl": [
           {
            "marker": {
             "colorbar": {
              "outlinewidth": 0,
              "ticks": ""
             }
            },
            "type": "scattergl"
           }
          ],
          "scattermapbox": [
           {
            "marker": {
             "colorbar": {
              "outlinewidth": 0,
              "ticks": ""
             }
            },
            "type": "scattermapbox"
           }
          ],
          "scatterpolar": [
           {
            "marker": {
             "colorbar": {
              "outlinewidth": 0,
              "ticks": ""
             }
            },
            "type": "scatterpolar"
           }
          ],
          "scatterpolargl": [
           {
            "marker": {
             "colorbar": {
              "outlinewidth": 0,
              "ticks": ""
             }
            },
            "type": "scatterpolargl"
           }
          ],
          "scatterternary": [
           {
            "marker": {
             "colorbar": {
              "outlinewidth": 0,
              "ticks": ""
             }
            },
            "type": "scatterternary"
           }
          ],
          "surface": [
           {
            "colorbar": {
             "outlinewidth": 0,
             "ticks": ""
            },
            "colorscale": [
             [
              0,
              "#0d0887"
             ],
             [
              0.1111111111111111,
              "#46039f"
             ],
             [
              0.2222222222222222,
              "#7201a8"
             ],
             [
              0.3333333333333333,
              "#9c179e"
             ],
             [
              0.4444444444444444,
              "#bd3786"
             ],
             [
              0.5555555555555556,
              "#d8576b"
             ],
             [
              0.6666666666666666,
              "#ed7953"
             ],
             [
              0.7777777777777778,
              "#fb9f3a"
             ],
             [
              0.8888888888888888,
              "#fdca26"
             ],
             [
              1,
              "#f0f921"
             ]
            ],
            "type": "surface"
           }
          ],
          "table": [
           {
            "cells": {
             "fill": {
              "color": "#EBF0F8"
             },
             "line": {
              "color": "white"
             }
            },
            "header": {
             "fill": {
              "color": "#C8D4E3"
             },
             "line": {
              "color": "white"
             }
            },
            "type": "table"
           }
          ]
         },
         "layout": {
          "annotationdefaults": {
           "arrowcolor": "#2a3f5f",
           "arrowhead": 0,
           "arrowwidth": 1
          },
          "autotypenumbers": "strict",
          "coloraxis": {
           "colorbar": {
            "outlinewidth": 0,
            "ticks": ""
           }
          },
          "colorscale": {
           "diverging": [
            [
             0,
             "#8e0152"
            ],
            [
             0.1,
             "#c51b7d"
            ],
            [
             0.2,
             "#de77ae"
            ],
            [
             0.3,
             "#f1b6da"
            ],
            [
             0.4,
             "#fde0ef"
            ],
            [
             0.5,
             "#f7f7f7"
            ],
            [
             0.6,
             "#e6f5d0"
            ],
            [
             0.7,
             "#b8e186"
            ],
            [
             0.8,
             "#7fbc41"
            ],
            [
             0.9,
             "#4d9221"
            ],
            [
             1,
             "#276419"
            ]
           ],
           "sequential": [
            [
             0,
             "#0d0887"
            ],
            [
             0.1111111111111111,
             "#46039f"
            ],
            [
             0.2222222222222222,
             "#7201a8"
            ],
            [
             0.3333333333333333,
             "#9c179e"
            ],
            [
             0.4444444444444444,
             "#bd3786"
            ],
            [
             0.5555555555555556,
             "#d8576b"
            ],
            [
             0.6666666666666666,
             "#ed7953"
            ],
            [
             0.7777777777777778,
             "#fb9f3a"
            ],
            [
             0.8888888888888888,
             "#fdca26"
            ],
            [
             1,
             "#f0f921"
            ]
           ],
           "sequentialminus": [
            [
             0,
             "#0d0887"
            ],
            [
             0.1111111111111111,
             "#46039f"
            ],
            [
             0.2222222222222222,
             "#7201a8"
            ],
            [
             0.3333333333333333,
             "#9c179e"
            ],
            [
             0.4444444444444444,
             "#bd3786"
            ],
            [
             0.5555555555555556,
             "#d8576b"
            ],
            [
             0.6666666666666666,
             "#ed7953"
            ],
            [
             0.7777777777777778,
             "#fb9f3a"
            ],
            [
             0.8888888888888888,
             "#fdca26"
            ],
            [
             1,
             "#f0f921"
            ]
           ]
          },
          "colorway": [
           "#636efa",
           "#EF553B",
           "#00cc96",
           "#ab63fa",
           "#FFA15A",
           "#19d3f3",
           "#FF6692",
           "#B6E880",
           "#FF97FF",
           "#FECB52"
          ],
          "font": {
           "color": "#2a3f5f"
          },
          "geo": {
           "bgcolor": "white",
           "lakecolor": "white",
           "landcolor": "#E5ECF6",
           "showlakes": true,
           "showland": true,
           "subunitcolor": "white"
          },
          "hoverlabel": {
           "align": "left"
          },
          "hovermode": "closest",
          "mapbox": {
           "style": "light"
          },
          "paper_bgcolor": "white",
          "plot_bgcolor": "#E5ECF6",
          "polar": {
           "angularaxis": {
            "gridcolor": "white",
            "linecolor": "white",
            "ticks": ""
           },
           "bgcolor": "#E5ECF6",
           "radialaxis": {
            "gridcolor": "white",
            "linecolor": "white",
            "ticks": ""
           }
          },
          "scene": {
           "xaxis": {
            "backgroundcolor": "#E5ECF6",
            "gridcolor": "white",
            "gridwidth": 2,
            "linecolor": "white",
            "showbackground": true,
            "ticks": "",
            "zerolinecolor": "white"
           },
           "yaxis": {
            "backgroundcolor": "#E5ECF6",
            "gridcolor": "white",
            "gridwidth": 2,
            "linecolor": "white",
            "showbackground": true,
            "ticks": "",
            "zerolinecolor": "white"
           },
           "zaxis": {
            "backgroundcolor": "#E5ECF6",
            "gridcolor": "white",
            "gridwidth": 2,
            "linecolor": "white",
            "showbackground": true,
            "ticks": "",
            "zerolinecolor": "white"
           }
          },
          "shapedefaults": {
           "line": {
            "color": "#2a3f5f"
           }
          },
          "ternary": {
           "aaxis": {
            "gridcolor": "white",
            "linecolor": "white",
            "ticks": ""
           },
           "baxis": {
            "gridcolor": "white",
            "linecolor": "white",
            "ticks": ""
           },
           "bgcolor": "#E5ECF6",
           "caxis": {
            "gridcolor": "white",
            "linecolor": "white",
            "ticks": ""
           }
          },
          "title": {
           "x": 0.05
          },
          "xaxis": {
           "automargin": true,
           "gridcolor": "white",
           "linecolor": "white",
           "ticks": "",
           "title": {
            "standoff": 15
           },
           "zerolinecolor": "white",
           "zerolinewidth": 2
          },
          "yaxis": {
           "automargin": true,
           "gridcolor": "white",
           "linecolor": "white",
           "ticks": "",
           "title": {
            "standoff": 15
           },
           "zerolinecolor": "white",
           "zerolinewidth": 2
          }
         }
        },
        "xaxis": {
         "anchor": "y",
         "constrain": "domain",
         "domain": [
          0,
          1
         ],
         "scaleanchor": "y"
        },
        "yaxis": {
         "anchor": "x",
         "autorange": "reversed",
         "constrain": "domain",
         "domain": [
          0,
          1
         ]
        }
       }
      },
      "text/html": [
       "<div>                            <div id=\"fd8cc687-2183-4e74-9d65-e4351e65de89\" class=\"plotly-graph-div\" style=\"height:525px; width:100%;\"></div>            <script type=\"text/javascript\">                require([\"plotly\"], function(Plotly) {                    window.PLOTLYENV=window.PLOTLYENV || {};                                    if (document.getElementById(\"fd8cc687-2183-4e74-9d65-e4351e65de89\")) {                    Plotly.newPlot(                        \"fd8cc687-2183-4e74-9d65-e4351e65de89\",                        [{\"coloraxis\":\"coloraxis\",\"name\":\"0\",\"x\":[\"TOP\",\"DELTA\",\"AOT\",\"CPF\",\"KBANK\",\"TRUE\",\"TTB\",\"THG\",\"ORI\",\"THANI\"],\"y\":[\"TOP\",\"DELTA\",\"AOT\",\"CPF\",\"KBANK\",\"TRUE\",\"TTB\",\"THG\",\"ORI\",\"THANI\"],\"z\":[[0.9999999999999998,-0.28381728806753764,0.4055129364247683,-0.631599604129061,0.8911968806976097,0.8074001087460908,0.9267667008834946,0.06724736634822899,0.28689791083090704,0.39740153448016413],[-0.28381728806753764,1.0,0.19180784418919072,0.22020538391874092,-0.19488648320326207,-0.2517501001000189,-0.359944908588734,0.6063120169537077,0.6354502834826572,0.35372585456047445],[0.4055129364247683,0.19180784418919072,0.9999999999999998,-0.13599353269028153,0.41622728023404504,0.4286046620616877,0.3045642363475847,0.47016832496094946,0.29886058164541646,0.5108970420395392],[-0.631599604129061,0.22020538391874092,-0.13599353269028153,1.0,-0.6611050507145793,-0.6244442244571207,-0.6900708421217207,-0.14542961256687117,-0.20381142106740033,-0.2601152007941098],[0.8911968806976097,-0.19488648320326207,0.41622728023404504,-0.6611050507145793,0.9999999999999998,0.8460927626734669,0.9162870967631327,0.2657020530115038,0.3887758989283922,0.4904621855499441],[0.8074001087460908,-0.2517501001000189,0.4286046620616877,-0.6244442244571207,0.8460927626734669,1.0,0.8311478959893386,0.3045781499127254,0.3972285194198168,0.41323985080064596],[0.9267667008834946,-0.359944908588734,0.3045642363475847,-0.6900708421217207,0.9162870967631327,0.8311478959893386,1.0,0.07670768347600856,0.24157898635537528,0.2932505648479019],[0.06724736634822899,0.6063120169537077,0.47016832496094946,-0.14542961256687117,0.2657020530115038,0.3045781499127254,0.07670768347600856,0.9999999999999998,0.7006777556958859,0.38727256772473834],[0.28689791083090704,0.6354502834826572,0.29886058164541646,-0.20381142106740033,0.3887758989283922,0.3972285194198168,0.24157898635537528,0.7006777556958859,1.0,0.535842199138535],[0.39740153448016413,0.35372585456047445,0.5108970420395392,-0.2601152007941098,0.4904621855499441,0.41323985080064596,0.2932505648479019,0.38727256772473834,0.535842199138535,1.0]],\"type\":\"heatmap\",\"xaxis\":\"x\",\"yaxis\":\"y\",\"hovertemplate\":\"x: %{x}<br>y: %{y}<br>color: %{z}<extra></extra>\"}],                        {\"template\":{\"data\":{\"histogram2dcontour\":[{\"type\":\"histogram2dcontour\",\"colorbar\":{\"outlinewidth\":0,\"ticks\":\"\"},\"colorscale\":[[0.0,\"#0d0887\"],[0.1111111111111111,\"#46039f\"],[0.2222222222222222,\"#7201a8\"],[0.3333333333333333,\"#9c179e\"],[0.4444444444444444,\"#bd3786\"],[0.5555555555555556,\"#d8576b\"],[0.6666666666666666,\"#ed7953\"],[0.7777777777777778,\"#fb9f3a\"],[0.8888888888888888,\"#fdca26\"],[1.0,\"#f0f921\"]]}],\"choropleth\":[{\"type\":\"choropleth\",\"colorbar\":{\"outlinewidth\":0,\"ticks\":\"\"}}],\"histogram2d\":[{\"type\":\"histogram2d\",\"colorbar\":{\"outlinewidth\":0,\"ticks\":\"\"},\"colorscale\":[[0.0,\"#0d0887\"],[0.1111111111111111,\"#46039f\"],[0.2222222222222222,\"#7201a8\"],[0.3333333333333333,\"#9c179e\"],[0.4444444444444444,\"#bd3786\"],[0.5555555555555556,\"#d8576b\"],[0.6666666666666666,\"#ed7953\"],[0.7777777777777778,\"#fb9f3a\"],[0.8888888888888888,\"#fdca26\"],[1.0,\"#f0f921\"]]}],\"heatmap\":[{\"type\":\"heatmap\",\"colorbar\":{\"outlinewidth\":0,\"ticks\":\"\"},\"colorscale\":[[0.0,\"#0d0887\"],[0.1111111111111111,\"#46039f\"],[0.2222222222222222,\"#7201a8\"],[0.3333333333333333,\"#9c179e\"],[0.4444444444444444,\"#bd3786\"],[0.5555555555555556,\"#d8576b\"],[0.6666666666666666,\"#ed7953\"],[0.7777777777777778,\"#fb9f3a\"],[0.8888888888888888,\"#fdca26\"],[1.0,\"#f0f921\"]]}],\"heatmapgl\":[{\"type\":\"heatmapgl\",\"colorbar\":{\"outlinewidth\":0,\"ticks\":\"\"},\"colorscale\":[[0.0,\"#0d0887\"],[0.1111111111111111,\"#46039f\"],[0.2222222222222222,\"#7201a8\"],[0.3333333333333333,\"#9c179e\"],[0.4444444444444444,\"#bd3786\"],[0.5555555555555556,\"#d8576b\"],[0.6666666666666666,\"#ed7953\"],[0.7777777777777778,\"#fb9f3a\"],[0.8888888888888888,\"#fdca26\"],[1.0,\"#f0f921\"]]}],\"contourcarpet\":[{\"type\":\"contourcarpet\",\"colorbar\":{\"outlinewidth\":0,\"ticks\":\"\"}}],\"contour\":[{\"type\":\"contour\",\"colorbar\":{\"outlinewidth\":0,\"ticks\":\"\"},\"colorscale\":[[0.0,\"#0d0887\"],[0.1111111111111111,\"#46039f\"],[0.2222222222222222,\"#7201a8\"],[0.3333333333333333,\"#9c179e\"],[0.4444444444444444,\"#bd3786\"],[0.5555555555555556,\"#d8576b\"],[0.6666666666666666,\"#ed7953\"],[0.7777777777777778,\"#fb9f3a\"],[0.8888888888888888,\"#fdca26\"],[1.0,\"#f0f921\"]]}],\"surface\":[{\"type\":\"surface\",\"colorbar\":{\"outlinewidth\":0,\"ticks\":\"\"},\"colorscale\":[[0.0,\"#0d0887\"],[0.1111111111111111,\"#46039f\"],[0.2222222222222222,\"#7201a8\"],[0.3333333333333333,\"#9c179e\"],[0.4444444444444444,\"#bd3786\"],[0.5555555555555556,\"#d8576b\"],[0.6666666666666666,\"#ed7953\"],[0.7777777777777778,\"#fb9f3a\"],[0.8888888888888888,\"#fdca26\"],[1.0,\"#f0f921\"]]}],\"mesh3d\":[{\"type\":\"mesh3d\",\"colorbar\":{\"outlinewidth\":0,\"ticks\":\"\"}}],\"scatter\":[{\"fillpattern\":{\"fillmode\":\"overlay\",\"size\":10,\"solidity\":0.2},\"type\":\"scatter\"}],\"parcoords\":[{\"type\":\"parcoords\",\"line\":{\"colorbar\":{\"outlinewidth\":0,\"ticks\":\"\"}}}],\"scatterpolargl\":[{\"type\":\"scatterpolargl\",\"marker\":{\"colorbar\":{\"outlinewidth\":0,\"ticks\":\"\"}}}],\"bar\":[{\"error_x\":{\"color\":\"#2a3f5f\"},\"error_y\":{\"color\":\"#2a3f5f\"},\"marker\":{\"line\":{\"color\":\"#E5ECF6\",\"width\":0.5},\"pattern\":{\"fillmode\":\"overlay\",\"size\":10,\"solidity\":0.2}},\"type\":\"bar\"}],\"scattergeo\":[{\"type\":\"scattergeo\",\"marker\":{\"colorbar\":{\"outlinewidth\":0,\"ticks\":\"\"}}}],\"scatterpolar\":[{\"type\":\"scatterpolar\",\"marker\":{\"colorbar\":{\"outlinewidth\":0,\"ticks\":\"\"}}}],\"histogram\":[{\"marker\":{\"pattern\":{\"fillmode\":\"overlay\",\"size\":10,\"solidity\":0.2}},\"type\":\"histogram\"}],\"scattergl\":[{\"type\":\"scattergl\",\"marker\":{\"colorbar\":{\"outlinewidth\":0,\"ticks\":\"\"}}}],\"scatter3d\":[{\"type\":\"scatter3d\",\"line\":{\"colorbar\":{\"outlinewidth\":0,\"ticks\":\"\"}},\"marker\":{\"colorbar\":{\"outlinewidth\":0,\"ticks\":\"\"}}}],\"scattermapbox\":[{\"type\":\"scattermapbox\",\"marker\":{\"colorbar\":{\"outlinewidth\":0,\"ticks\":\"\"}}}],\"scatterternary\":[{\"type\":\"scatterternary\",\"marker\":{\"colorbar\":{\"outlinewidth\":0,\"ticks\":\"\"}}}],\"scattercarpet\":[{\"type\":\"scattercarpet\",\"marker\":{\"colorbar\":{\"outlinewidth\":0,\"ticks\":\"\"}}}],\"carpet\":[{\"aaxis\":{\"endlinecolor\":\"#2a3f5f\",\"gridcolor\":\"white\",\"linecolor\":\"white\",\"minorgridcolor\":\"white\",\"startlinecolor\":\"#2a3f5f\"},\"baxis\":{\"endlinecolor\":\"#2a3f5f\",\"gridcolor\":\"white\",\"linecolor\":\"white\",\"minorgridcolor\":\"white\",\"startlinecolor\":\"#2a3f5f\"},\"type\":\"carpet\"}],\"table\":[{\"cells\":{\"fill\":{\"color\":\"#EBF0F8\"},\"line\":{\"color\":\"white\"}},\"header\":{\"fill\":{\"color\":\"#C8D4E3\"},\"line\":{\"color\":\"white\"}},\"type\":\"table\"}],\"barpolar\":[{\"marker\":{\"line\":{\"color\":\"#E5ECF6\",\"width\":0.5},\"pattern\":{\"fillmode\":\"overlay\",\"size\":10,\"solidity\":0.2}},\"type\":\"barpolar\"}],\"pie\":[{\"automargin\":true,\"type\":\"pie\"}]},\"layout\":{\"autotypenumbers\":\"strict\",\"colorway\":[\"#636efa\",\"#EF553B\",\"#00cc96\",\"#ab63fa\",\"#FFA15A\",\"#19d3f3\",\"#FF6692\",\"#B6E880\",\"#FF97FF\",\"#FECB52\"],\"font\":{\"color\":\"#2a3f5f\"},\"hovermode\":\"closest\",\"hoverlabel\":{\"align\":\"left\"},\"paper_bgcolor\":\"white\",\"plot_bgcolor\":\"#E5ECF6\",\"polar\":{\"bgcolor\":\"#E5ECF6\",\"angularaxis\":{\"gridcolor\":\"white\",\"linecolor\":\"white\",\"ticks\":\"\"},\"radialaxis\":{\"gridcolor\":\"white\",\"linecolor\":\"white\",\"ticks\":\"\"}},\"ternary\":{\"bgcolor\":\"#E5ECF6\",\"aaxis\":{\"gridcolor\":\"white\",\"linecolor\":\"white\",\"ticks\":\"\"},\"baxis\":{\"gridcolor\":\"white\",\"linecolor\":\"white\",\"ticks\":\"\"},\"caxis\":{\"gridcolor\":\"white\",\"linecolor\":\"white\",\"ticks\":\"\"}},\"coloraxis\":{\"colorbar\":{\"outlinewidth\":0,\"ticks\":\"\"}},\"colorscale\":{\"sequential\":[[0.0,\"#0d0887\"],[0.1111111111111111,\"#46039f\"],[0.2222222222222222,\"#7201a8\"],[0.3333333333333333,\"#9c179e\"],[0.4444444444444444,\"#bd3786\"],[0.5555555555555556,\"#d8576b\"],[0.6666666666666666,\"#ed7953\"],[0.7777777777777778,\"#fb9f3a\"],[0.8888888888888888,\"#fdca26\"],[1.0,\"#f0f921\"]],\"sequentialminus\":[[0.0,\"#0d0887\"],[0.1111111111111111,\"#46039f\"],[0.2222222222222222,\"#7201a8\"],[0.3333333333333333,\"#9c179e\"],[0.4444444444444444,\"#bd3786\"],[0.5555555555555556,\"#d8576b\"],[0.6666666666666666,\"#ed7953\"],[0.7777777777777778,\"#fb9f3a\"],[0.8888888888888888,\"#fdca26\"],[1.0,\"#f0f921\"]],\"diverging\":[[0,\"#8e0152\"],[0.1,\"#c51b7d\"],[0.2,\"#de77ae\"],[0.3,\"#f1b6da\"],[0.4,\"#fde0ef\"],[0.5,\"#f7f7f7\"],[0.6,\"#e6f5d0\"],[0.7,\"#b8e186\"],[0.8,\"#7fbc41\"],[0.9,\"#4d9221\"],[1,\"#276419\"]]},\"xaxis\":{\"gridcolor\":\"white\",\"linecolor\":\"white\",\"ticks\":\"\",\"title\":{\"standoff\":15},\"zerolinecolor\":\"white\",\"automargin\":true,\"zerolinewidth\":2},\"yaxis\":{\"gridcolor\":\"white\",\"linecolor\":\"white\",\"ticks\":\"\",\"title\":{\"standoff\":15},\"zerolinecolor\":\"white\",\"automargin\":true,\"zerolinewidth\":2},\"scene\":{\"xaxis\":{\"backgroundcolor\":\"#E5ECF6\",\"gridcolor\":\"white\",\"linecolor\":\"white\",\"showbackground\":true,\"ticks\":\"\",\"zerolinecolor\":\"white\",\"gridwidth\":2},\"yaxis\":{\"backgroundcolor\":\"#E5ECF6\",\"gridcolor\":\"white\",\"linecolor\":\"white\",\"showbackground\":true,\"ticks\":\"\",\"zerolinecolor\":\"white\",\"gridwidth\":2},\"zaxis\":{\"backgroundcolor\":\"#E5ECF6\",\"gridcolor\":\"white\",\"linecolor\":\"white\",\"showbackground\":true,\"ticks\":\"\",\"zerolinecolor\":\"white\",\"gridwidth\":2}},\"shapedefaults\":{\"line\":{\"color\":\"#2a3f5f\"}},\"annotationdefaults\":{\"arrowcolor\":\"#2a3f5f\",\"arrowhead\":0,\"arrowwidth\":1},\"geo\":{\"bgcolor\":\"white\",\"landcolor\":\"#E5ECF6\",\"subunitcolor\":\"white\",\"showland\":true,\"showlakes\":true,\"lakecolor\":\"white\"},\"title\":{\"x\":0.05},\"mapbox\":{\"style\":\"light\"}}},\"xaxis\":{\"anchor\":\"y\",\"domain\":[0.0,1.0],\"scaleanchor\":\"y\",\"constrain\":\"domain\"},\"yaxis\":{\"anchor\":\"x\",\"domain\":[0.0,1.0],\"autorange\":\"reversed\",\"constrain\":\"domain\"},\"coloraxis\":{\"colorscale\":[[0.0,\"rgb(103,0,31)\"],[0.1,\"rgb(178,24,43)\"],[0.2,\"rgb(214,96,77)\"],[0.3,\"rgb(244,165,130)\"],[0.4,\"rgb(253,219,199)\"],[0.5,\"rgb(247,247,247)\"],[0.6,\"rgb(209,229,240)\"],[0.7,\"rgb(146,197,222)\"],[0.8,\"rgb(67,147,195)\"],[0.9,\"rgb(33,102,172)\"],[1.0,\"rgb(5,48,97)\"]],\"cmid\":0},\"margin\":{\"t\":60}},                        {\"responsive\": true}                    ).then(function(){\n",
       "                            \n",
       "var gd = document.getElementById('fd8cc687-2183-4e74-9d65-e4351e65de89');\n",
       "var x = new MutationObserver(function (mutations, observer) {{\n",
       "        var display = window.getComputedStyle(gd).display;\n",
       "        if (!display || display === 'none') {{\n",
       "            console.log([gd, 'removed!']);\n",
       "            Plotly.purge(gd);\n",
       "            observer.disconnect();\n",
       "        }}\n",
       "}});\n",
       "\n",
       "// Listen for the removal of the full notebook cells\n",
       "var notebookContainer = gd.closest('#notebook-container');\n",
       "if (notebookContainer) {{\n",
       "    x.observe(notebookContainer, {childList: true});\n",
       "}}\n",
       "\n",
       "// Listen for the clearing of the current output cell\n",
       "var outputEl = gd.closest('.output');\n",
       "if (outputEl) {{\n",
       "    x.observe(outputEl, {childList: true});\n",
       "}}\n",
       "\n",
       "                        })                };                });            </script>        </div>"
      ]
     },
     "metadata": {},
     "output_type": "display_data"
    }
   ],
   "source": [
    "import plotly.express as px\n",
    "\n",
    "fig = px.imshow(correlation_from_covariance(cov_sample),\n",
    "                color_continuous_scale=px.colors.diverging.RdBu,\n",
    "                color_continuous_midpoint=0)\n",
    "fig.show()"
   ]
  },
  {
   "cell_type": "code",
   "execution_count": 142,
   "id": "317cc527",
   "metadata": {},
   "outputs": [],
   "source": [
    "ef = EfficientFrontier(mu, cov_shrinkage, weight_bounds=(None, None))"
   ]
  },
  {
   "cell_type": "code",
   "execution_count": 143,
   "id": "28852162",
   "metadata": {
    "scrolled": false
   },
   "outputs": [
    {
     "data": {
      "text/plain": [
       "<AxesSubplot: xlabel='Volatility', ylabel='Return'>"
      ]
     },
     "execution_count": 143,
     "metadata": {},
     "output_type": "execute_result"
    },
    {
     "data": {
      "image/png": "[encoded data removed]",
      "text/plain": [
       "<Figure size 750x350 with 1 Axes>"
      ]
     },
     "metadata": {},
     "output_type": "display_data"
    }
   ],
   "source": [
    "fig, ax = plt.subplots()\n",
    "plotting.plot_efficient_frontier(ef, ax=ax, show_assets=True)\n",
    "# plt.show()"
   ]
  },
  {
   "cell_type": "code",
   "execution_count": 144,
   "id": "c56d5f1b",
   "metadata": {},
   "outputs": [
    {
     "data": {
      "text/plain": [
       "<Figure size 750x350 with 0 Axes>"
      ]
     },
     "metadata": {},
     "output_type": "display_data"
    }
   ],
   "source": [
    "import io\n",
    "from PIL import Image\n",
    "import matplotlib.pyplot as plt\n",
    "\n",
    "plt.rcParams[\"figure.figsize\"] = [7.50, 3.50]\n",
    "plt.rcParams[\"figure.autolayout\"] = True\n",
    "\n",
    "plt.figure()\n",
    "plt.plot([1, 2])\n",
    "\n",
    "img_buf = io.BytesIO()\n",
    "plt.savefig(img_buf, format='png')\n",
    "\n",
    "im = Image.open(img_buf)\n",
    "im.show(title=\"My Image\")\n",
    "\n",
    "img_buf.close()"
   ]
  }
 ],
 "metadata": {
  "kernelspec": {
   "display_name": "Python 3 (ipykernel)",
   "language": "python",
   "name": "python3"
  },
  "language_info": {
   "codemirror_mode": {
    "name": "ipython",
    "version": 3
   },
   "file_extension": ".py",
   "mimetype": "text/x-python",
   "name": "python",
   "nbconvert_exporter": "python",
   "pygments_lexer": "ipython3",
   "version": "3.9.16"
  }
 },
 "nbformat": 4,
 "nbformat_minor": 5
}
